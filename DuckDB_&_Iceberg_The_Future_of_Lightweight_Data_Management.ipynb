{
  "nbformat": 4,
  "nbformat_minor": 0,
  "metadata": {
    "colab": {
      "provenance": [],
      "authorship_tag": "ABX9TyNtp0dqhhatrP37lJRUSQ5l",
      "include_colab_link": true
    },
    "kernelspec": {
      "name": "python3",
      "display_name": "Python 3"
    },
    "language_info": {
      "name": "python"
    }
  },
  "cells": [
    {
      "cell_type": "markdown",
      "metadata": {
        "id": "view-in-github",
        "colab_type": "text"
      },
      "source": [
        "<a href=\"https://colab.research.google.com/github/jtuckayo/scratchpad/blob/main/DuckDB_%26_Iceberg_The_Future_of_Lightweight_Data_Management.ipynb\" target=\"_parent\"><img src=\"https://colab.research.google.com/assets/colab-badge.svg\" alt=\"Open In Colab\"/></a>"
      ]
    },
    {
      "cell_type": "code",
      "execution_count": 2,
      "metadata": {
        "colab": {
          "base_uri": "https://localhost:8080/"
        },
        "id": "yVR678yznjzP",
        "outputId": "ad709dc3-233f-4fca-eded-e6a9220144d1"
      },
      "outputs": [
        {
          "output_type": "stream",
          "name": "stdout",
          "text": [
            "Requirement already satisfied: duckdb in /usr/local/lib/python3.10/dist-packages (1.1.3)\n",
            "Collecting pysqlite3\n",
            "  Downloading pysqlite3-0.5.4.tar.gz (40 kB)\n",
            "\u001b[2K     \u001b[90m━━━━━━━━━━━━━━━━━━━━━━━━━━━━━━━━━━━━━━━━\u001b[0m \u001b[32m40.7/40.7 kB\u001b[0m \u001b[31m1.8 MB/s\u001b[0m eta \u001b[36m0:00:00\u001b[0m\n",
            "\u001b[?25h  Preparing metadata (setup.py) ... \u001b[?25l\u001b[?25hdone\n",
            "Building wheels for collected packages: pysqlite3\n",
            "  Building wheel for pysqlite3 (setup.py) ... \u001b[?25l\u001b[?25hdone\n",
            "  Created wheel for pysqlite3: filename=pysqlite3-0.5.4-cp310-cp310-linux_x86_64.whl size=151320 sha256=79c9edae0fa989c99f4e81f658dddbc65c38f26e789fb1e1962ec2bef5990ac1\n",
            "  Stored in directory: /root/.cache/pip/wheels/04/55/74/e3b53aeb9ff9e933626ee3938ccad69123828115ae34ce028e\n",
            "Successfully built pysqlite3\n",
            "Installing collected packages: pysqlite3\n",
            "Successfully installed pysqlite3-0.5.4\n"
          ]
        }
      ],
      "source": [
        "# prompt: install duckdb and sqlite in this notebook\n",
        "\n",
        "!pip install duckdb\n",
        "!pip install pysqlite3\n"
      ]
    },
    {
      "cell_type": "code",
      "source": [
        "pytable = duckdb.sql(\"SELECT * FROM 's3://us-prd-motherduck-open-datasets/who_ambient_air_quality/csv/who_ambient_air_quality_database_version_v6_april_2023.csv'\").arrow()"
      ],
      "metadata": {
        "id": "O6bRL1wln1KF"
      },
      "execution_count": 5,
      "outputs": []
    },
    {
      "cell_type": "code",
      "source": [
        "pytable"
      ],
      "metadata": {
        "colab": {
          "base_uri": "https://localhost:8080/"
        },
        "id": "ASro0oSzqHh_",
        "outputId": "ceda21fe-5204-44f9-ef06-f887af4f5ab1"
      },
      "execution_count": 6,
      "outputs": [
        {
          "output_type": "execute_result",
          "data": {
            "text/plain": [
              "pyarrow.Table\n",
              "who_region: string\n",
              "iso3: string\n",
              "country_name: string\n",
              "city: string\n",
              "year: int64\n",
              "version: string\n",
              "pm10_concentration: string\n",
              "pm25_concentration: string\n",
              "no2_concentration: string\n",
              "pm10_tempcov: string\n",
              "pm25_tempcov: string\n",
              "no2_tempcov: string\n",
              "type_of_stations: string\n",
              "reference: string\n",
              "web_link: string\n",
              "population: string\n",
              "population_source: string\n",
              "latitude: string\n",
              "longitude: string\n",
              "who_ms: int64\n",
              "----\n",
              "who_region: [[\"3_Sear\",\"3_Sear\",\"3_Sear\",\"3_Sear\",\"3_Sear\",...,\"5_Emr\",\"5_Emr\",\"5_Emr\",\"5_Emr\",\"5_Emr\"]]\n",
              "iso3: [[\"IND\",\"IND\",\"IND\",\"IND\",\"IND\",...,\"SAU\",\"SAU\",\"SAU\",\"SAU\",\"SAU\"]]\n",
              "country_name: [[\"India\",\"India\",\"India\",\"India\",\"India\",...,\"Saudi Arabia\",\"Saudi Arabia\",\"Saudi Arabia\",\"Saudi Arabia\",\"Saudi Arabia\"]]\n",
              "city: [[\"Chennai\",\"Solapur\",\"Chennai\",\"Hyderabad\",\"Pune\",...,\"Jizan\",\"Jizan\",\"Jizan\",\"Jizan\",\"Jizan\"]]\n",
              "year: [[2018,2016,2019,2019,2017,...,2014,2013,2012,2011,2010]]\n",
              "version: [[\"version 2022\",\"version 2022, version 2018\",\"version 2022\",\"version 2022\",\"version 2022\",...,\"version 2023\",\"version 2023\",\"version 2023\",\"version 2023\",\"version 2023\"]]\n",
              "pm10_concentration: [[\"NA\",\"NA\",\"NA\",\"NA\",\"NA\",...,\"148\",\"208\",\"184\",\"316\",\"198\"]]\n",
              "pm25_concentration: [[\"30\",\"39\",\"39\",\"42\",\"43\",...,\"NA\",\"NA\",\"NA\",\"NA\",\"NA\"]]\n",
              "no2_concentration: [[\"NA\",\"NA\",\"NA\",\"NA\",\"NA\",...,\"NA\",\"NA\",\"NA\",\"NA\",\"NA\"]]\n",
              "pm10_tempcov: [[\"NA\",\"NA\",\"NA\",\"NA\",\"NA\",...,\"NA\",\"NA\",\"NA\",\"NA\",\"NA\"]]\n",
              "..."
            ]
          },
          "metadata": {},
          "execution_count": 6
        }
      ]
    },
    {
      "cell_type": "code",
      "source": [
        "# prompt: install pyiceberg\n",
        "\n",
        "!pip install pyiceberg\n"
      ],
      "metadata": {
        "colab": {
          "base_uri": "https://localhost:8080/"
        },
        "id": "K-6g9gmRqsYu",
        "outputId": "ee8fad29-ec4b-4e5d-9eae-dce2f2424608"
      },
      "execution_count": 7,
      "outputs": [
        {
          "output_type": "stream",
          "name": "stdout",
          "text": [
            "Collecting pyiceberg\n",
            "  Downloading pyiceberg-0.8.1-cp310-cp310-manylinux_2_17_x86_64.manylinux2014_x86_64.whl.metadata (4.0 kB)\n",
            "Requirement already satisfied: cachetools<6.0.0,>=5.5.0 in /usr/local/lib/python3.10/dist-packages (from pyiceberg) (5.5.0)\n",
            "Requirement already satisfied: click<9.0.0,>=7.1.1 in /usr/local/lib/python3.10/dist-packages (from pyiceberg) (8.1.7)\n",
            "Requirement already satisfied: fsspec>=2023.1.0 in /usr/local/lib/python3.10/dist-packages (from pyiceberg) (2024.10.0)\n",
            "Collecting mmh3<6.0.0,>=4.0.0 (from pyiceberg)\n",
            "  Downloading mmh3-5.0.1-cp310-cp310-manylinux_2_5_x86_64.manylinux1_x86_64.manylinux_2_17_x86_64.manylinux2014_x86_64.whl.metadata (14 kB)\n",
            "Requirement already satisfied: pydantic!=2.4.0,!=2.4.1,<3.0,>=2.0 in /usr/local/lib/python3.10/dist-packages (from pyiceberg) (2.10.3)\n",
            "Requirement already satisfied: pyparsing<4.0.0,>=3.1.0 in /usr/local/lib/python3.10/dist-packages (from pyiceberg) (3.2.0)\n",
            "Requirement already satisfied: requests<3.0.0,>=2.20.0 in /usr/local/lib/python3.10/dist-packages (from pyiceberg) (2.32.3)\n",
            "Requirement already satisfied: rich<14.0.0,>=10.11.0 in /usr/local/lib/python3.10/dist-packages (from pyiceberg) (13.9.4)\n",
            "Collecting sortedcontainers==2.4.0 (from pyiceberg)\n",
            "  Downloading sortedcontainers-2.4.0-py2.py3-none-any.whl.metadata (10 kB)\n",
            "Collecting strictyaml<2.0.0,>=1.7.0 (from pyiceberg)\n",
            "  Downloading strictyaml-1.7.3-py3-none-any.whl.metadata (11 kB)\n",
            "Requirement already satisfied: tenacity<10.0.0,>=8.2.3 in /usr/local/lib/python3.10/dist-packages (from pyiceberg) (9.0.0)\n",
            "Requirement already satisfied: annotated-types>=0.6.0 in /usr/local/lib/python3.10/dist-packages (from pydantic!=2.4.0,!=2.4.1,<3.0,>=2.0->pyiceberg) (0.7.0)\n",
            "Requirement already satisfied: pydantic-core==2.27.1 in /usr/local/lib/python3.10/dist-packages (from pydantic!=2.4.0,!=2.4.1,<3.0,>=2.0->pyiceberg) (2.27.1)\n",
            "Requirement already satisfied: typing-extensions>=4.12.2 in /usr/local/lib/python3.10/dist-packages (from pydantic!=2.4.0,!=2.4.1,<3.0,>=2.0->pyiceberg) (4.12.2)\n",
            "Requirement already satisfied: charset-normalizer<4,>=2 in /usr/local/lib/python3.10/dist-packages (from requests<3.0.0,>=2.20.0->pyiceberg) (3.4.0)\n",
            "Requirement already satisfied: idna<4,>=2.5 in /usr/local/lib/python3.10/dist-packages (from requests<3.0.0,>=2.20.0->pyiceberg) (3.10)\n",
            "Requirement already satisfied: urllib3<3,>=1.21.1 in /usr/local/lib/python3.10/dist-packages (from requests<3.0.0,>=2.20.0->pyiceberg) (2.2.3)\n",
            "Requirement already satisfied: certifi>=2017.4.17 in /usr/local/lib/python3.10/dist-packages (from requests<3.0.0,>=2.20.0->pyiceberg) (2024.12.14)\n",
            "Requirement already satisfied: markdown-it-py>=2.2.0 in /usr/local/lib/python3.10/dist-packages (from rich<14.0.0,>=10.11.0->pyiceberg) (3.0.0)\n",
            "Requirement already satisfied: pygments<3.0.0,>=2.13.0 in /usr/local/lib/python3.10/dist-packages (from rich<14.0.0,>=10.11.0->pyiceberg) (2.18.0)\n",
            "Requirement already satisfied: python-dateutil>=2.6.0 in /usr/local/lib/python3.10/dist-packages (from strictyaml<2.0.0,>=1.7.0->pyiceberg) (2.8.2)\n",
            "Requirement already satisfied: mdurl~=0.1 in /usr/local/lib/python3.10/dist-packages (from markdown-it-py>=2.2.0->rich<14.0.0,>=10.11.0->pyiceberg) (0.1.2)\n",
            "Requirement already satisfied: six>=1.5 in /usr/local/lib/python3.10/dist-packages (from python-dateutil>=2.6.0->strictyaml<2.0.0,>=1.7.0->pyiceberg) (1.17.0)\n",
            "Downloading pyiceberg-0.8.1-cp310-cp310-manylinux_2_17_x86_64.manylinux2014_x86_64.whl (822 kB)\n",
            "\u001b[2K   \u001b[90m━━━━━━━━━━━━━━━━━━━━━━━━━━━━━━━━━━━━━━━━\u001b[0m \u001b[32m822.1/822.1 kB\u001b[0m \u001b[31m12.4 MB/s\u001b[0m eta \u001b[36m0:00:00\u001b[0m\n",
            "\u001b[?25hDownloading sortedcontainers-2.4.0-py2.py3-none-any.whl (29 kB)\n",
            "Downloading mmh3-5.0.1-cp310-cp310-manylinux_2_5_x86_64.manylinux1_x86_64.manylinux_2_17_x86_64.manylinux2014_x86_64.whl (93 kB)\n",
            "\u001b[2K   \u001b[90m━━━━━━━━━━━━━━━━━━━━━━━━━━━━━━━━━━━━━━━━\u001b[0m \u001b[32m93.2/93.2 kB\u001b[0m \u001b[31m8.0 MB/s\u001b[0m eta \u001b[36m0:00:00\u001b[0m\n",
            "\u001b[?25hDownloading strictyaml-1.7.3-py3-none-any.whl (123 kB)\n",
            "\u001b[2K   \u001b[90m━━━━━━━━━━━━━━━━━━━━━━━━━━━━━━━━━━━━━━━━\u001b[0m \u001b[32m123.9/123.9 kB\u001b[0m \u001b[31m10.0 MB/s\u001b[0m eta \u001b[36m0:00:00\u001b[0m\n",
            "\u001b[?25hInstalling collected packages: sortedcontainers, mmh3, strictyaml, pyiceberg\n",
            "Successfully installed mmh3-5.0.1 pyiceberg-0.8.1 sortedcontainers-2.4.0 strictyaml-1.7.3\n"
          ]
        }
      ]
    },
    {
      "cell_type": "code",
      "source": [
        "!mkdir \"/content/warehouse\""
      ],
      "metadata": {
        "id": "cH99dHW8q2UD"
      },
      "execution_count": 8,
      "outputs": []
    },
    {
      "cell_type": "code",
      "source": [
        "from pyiceberg.catalog.sql import SqlCatalog\n",
        "\n",
        "warehouse_path = \"/content/warehouse\"\n",
        "catalog = SqlCatalog(\n",
        "    \"default\",\n",
        "    **{\n",
        "      \"uri\":f\"sqlite:///{warehouse_path}/pyiceberg_catalog_db\",\n",
        "      \"warehouse\":f\"file://{warehouse_path}\",\n",
        "    },\n",
        ")"
      ],
      "metadata": {
        "id": "GU8N-fWnrasV"
      },
      "execution_count": 10,
      "outputs": []
    },
    {
      "cell_type": "code",
      "source": [
        "catalog.create_namespace(\"default\")\n",
        "\n",
        "table = catalog.create_table(\n",
        "    \"default.air_quality\",\n",
        "    schema = pytable.schema,\n",
        ")"
      ],
      "metadata": {
        "id": "ZQY21whb_EFs"
      },
      "execution_count": 11,
      "outputs": []
    },
    {
      "cell_type": "code",
      "source": [
        "table.append(pytable)\n",
        "len(table.scan().to_arrow())"
      ],
      "metadata": {
        "colab": {
          "base_uri": "https://localhost:8080/"
        },
        "id": "8iB4FRxv_jNZ",
        "outputId": "add1f342-31d6-49b6-f863-c0226a290989"
      },
      "execution_count": 12,
      "outputs": [
        {
          "output_type": "execute_result",
          "data": {
            "text/plain": [
              "41364"
            ]
          },
          "metadata": {},
          "execution_count": 12
        }
      ]
    },
    {
      "cell_type": "code",
      "source": [
        "con_ice = table.scan().to_duckdb(table_name = \"air\")"
      ],
      "metadata": {
        "id": "ftERNYLFriwo"
      },
      "execution_count": 13,
      "outputs": []
    },
    {
      "cell_type": "code",
      "source": [
        "con_ice.sql('FROM air;')"
      ],
      "metadata": {
        "colab": {
          "base_uri": "https://localhost:8080/"
        },
        "id": "DS3rssnv__Pr",
        "outputId": "5ffa5800-5e50-4aba-ee83-436a47267ba5"
      },
      "execution_count": 14,
      "outputs": [
        {
          "output_type": "execute_result",
          "data": {
            "text/plain": [
              "┌────────────┬─────────┬──────────────────────────────────────────────────────┬────────────────────────────────┬───────┬────────────────────────────┬────────────────────┬────────────────────┬───────────────────┬──────────────┬──────────────┬─────────────┬──────────────────┬──────────────────────────────────────────────────────────────────────────────────────────────────────────────────────────────────────────┬──────────────────────────────────────────────────────────────────────────────────────────────────────────────────────────────────────────────────────────────────────┬────────────┬───────────────────┬─────────────┬─────────────┬────────┐\n",
              "│ who_region │  iso3   │                     country_name                     │              city              │ year  │          version           │ pm10_concentration │ pm25_concentration │ no2_concentration │ pm10_tempcov │ pm25_tempcov │ no2_tempcov │ type_of_stations │                                                                reference                                                                 │                                                                               web_link                                                                               │ population │ population_source │  latitude   │  longitude  │ who_ms │\n",
              "│  varchar   │ varchar │                       varchar                        │            varchar             │ int64 │          varchar           │      varchar       │      varchar       │      varchar      │   varchar    │   varchar    │   varchar   │     varchar      │                                                                 varchar                                                                  │                                                                               varchar                                                                                │  varchar   │      varchar      │   varchar   │   varchar   │ int64  │\n",
              "├────────────┼─────────┼──────────────────────────────────────────────────────┼────────────────────────────────┼───────┼────────────────────────────┼────────────────────┼────────────────────┼───────────────────┼──────────────┼──────────────┼─────────────┼──────────────────┼──────────────────────────────────────────────────────────────────────────────────────────────────────────────────────────────────────────┼──────────────────────────────────────────────────────────────────────────────────────────────────────────────────────────────────────────────────────────────────────┼────────────┼───────────────────┼─────────────┼─────────────┼────────┤\n",
              "│ 3_Sear     │ IND     │ India                                                │ Chennai                        │  2018 │ version 2022               │ NA                 │ 30                 │ NA                │ NA           │ 91           │ NA          │ NA               │ U.S. Department of State, United States Environmental Protection Agency.                                                                 │ https://www.airnow.gov/index.cfm?action=airnow.global_summary                                                                                                        │ 9890427    │ NA                │ 13.08784    │ 80.27847    │      1 │\n",
              "│ 3_Sear     │ IND     │ India                                                │ Solapur                        │  2016 │ version 2022, version 2018 │ NA                 │ 39                 │ NA                │ NA           │ 99           │ NA          │ NA               │ Central Pollution Control Board India, Environmental Data Bank, CPCB                                                                     │ NA                                                                                                                                                                   │ 985568     │ NA                │ 17.6599188  │ 75.9063906  │      1 │\n",
              "│ 3_Sear     │ IND     │ India                                                │ Chennai                        │  2019 │ version 2022               │ NA                 │ 39                 │ NA                │ NA           │ 85           │ NA          │ NA               │ U.S. Department of State, United States Environmental Protection Agency.                                                                 │ [[[\"EPA AirNow DOS\",\"http://airnow.gov/index.cfm?action=airnow.global_summary\"]]]                                                                                    │ 9890427    │ NA                │ 13.08784    │ 80.27847    │      1 │\n",
              "│ 3_Sear     │ IND     │ India                                                │ Hyderabad                      │  2019 │ version 2022               │ NA                 │ 42                 │ NA                │ NA           │ 87           │ NA          │ NA               │ U.S. Department of State, United States Environmental Protection Agency.                                                                 │ [[[\"EPA AirNow DOS\",\"http://airnow.gov/index.cfm?action=airnow.global_summary\"]]]                                                                                    │ 8943523    │ NA                │ 17.38405    │ 78.45636    │      1 │\n",
              "│ 3_Sear     │ IND     │ India                                                │ Pune                           │  2017 │ version 2022               │ NA                 │ 43                 │ NA                │ NA           │ NA           │ NA          │ NA               │ Central Pollution Control Board India, Environmental Data Bank                                                                           │ http://www.cpcb.gov.in/CAAQM/                                                                                                                                        │ 5727530    │ NA                │ 18.5053196  │ 73.8238391  │      1 │\n",
              "│ 3_Sear     │ IND     │ India                                                │ Mumbai                         │  2019 │ version 2022               │ NA                 │ 43                 │ NA                │ NA           │ 90           │ NA          │ NA               │ U.S. Department of State, United States Environmental Protection Agency.                                                                 │ [[[\"EPA AirNow DOS\",\"http://airnow.gov/index.cfm?action=airnow.global_summary\"]]]                                                                                    │ 21042538   │ NA                │ 19.07283    │ 72.88261    │      1 │\n",
              "│ 3_Sear     │ IND     │ India                                                │ Chennai                        │  2017 │ version 2022               │ NA                 │ 48                 │ NA                │ NA           │ 76           │ NA          │ NA               │ Central Pollution Control Board India, Environmental Data Bank, U.S. Department of State, United States Environmental Protection Agency. │ [[[\"Central Pollution Control Board\",\"http://www.cpcb.gov.in/CAAQM\"]]], http://www.cpcb.gov.in/CAAQM/, https://www.airnow.gov/index.cfm?action=airnow.global_summary │ 9890427    │ NA                │ 13.07684962 │ 80.24841742 │      1 │\n",
              "│ 3_Sear     │ IND     │ India                                                │ Panchkula                      │  2017 │ version 2022               │ NA                 │ 52                 │ NA                │ NA           │ 61           │ NA          │ NA               │ Central Pollution Control Board India, Environmental Data Bank, U.S. Department of State, United States Environmental Protection Agency. │ [[[\"Central Pollution Control Board\",\"http://www.cpcb.gov.in/CAAQM\"]]], http://www.cpcb.gov.in/CAAQM/                                                                │ 211355     │ NA                │ 30.69999455 │ 76.8568725  │      1 │\n",
              "│ 3_Sear     │ IND     │ India                                                │ Panchkula                      │  2016 │ version 2022, version 2018 │ NA                 │ 54                 │ NA                │ NA           │ 85           │ NA          │ NA               │ Central Pollution Control Board India, Environmental Data Bank, CPCB                                                                     │ http://www.cpcb.gov.in/CAAQM/                                                                                                                                        │ 211355     │ NA                │ 30.70192157 │ 76.85564204 │      1 │\n",
              "│ 3_Sear     │ IND     │ India                                                │ Hyderabad                      │  2018 │ version 2022               │ NA                 │ 59                 │ NA                │ NA           │ 97           │ NA          │ NA               │ U.S. Department of State, United States Environmental Protection Agency.                                                                 │ https://www.airnow.gov/index.cfm?action=airnow.global_summary                                                                                                        │ 8943523    │ NA                │ 17.38405    │ 78.45636    │      1 │\n",
              "│   ·        │  ·      │   ·                                                  │     ·                          │    ·  │      ·                     │ ·                  │ ·                  │ ·                 │ ·            │ ·            │ ·           │ ·                │               ·                                                                                                                          │                               ·                                                                                                                                      │ ·          │ ·                 │   ·         │   ·         │      · │\n",
              "│   ·        │  ·      │   ·                                                  │     ·                          │    ·  │      ·                     │ ·                  │ ·                  │ ·                 │ ·            │ ·            │ ·           │ ·                │               ·                                                                                                                          │                               ·                                                                                                                                      │ ·          │ ·                 │   ·         │   ·         │      · │\n",
              "│   ·        │  ·      │   ·                                                  │     ·                          │    ·  │      ·                     │ ·                  │ ·                  │ ·                 │ ·            │ ·            │ ·           │ ·                │               ·                                                                                                                          │                               ·                                                                                                                                      │ ·          │ ·                 │   ·         │   ·         │      · │\n",
              "│ 4_Eur      │ GBR     │ United Kingdom of Great Britain and Northern Ireland │ Saint Osyth                    │  2018 │ version 2023               │ NA                 │ NA                 │ 13                │ NA           │ NA           │ 98          │ 1 Rural          │ European Environmental Agency                                                                                                            │ https://www.eea.europa.eu/themes/air/explore-air-pollution-data                                                                                                      │ NA         │ NA                │ 51.778      │ 1.049       │      1 │\n",
              "│ 4_Eur      │ GBR     │ United Kingdom of Great Britain and Northern Ireland │ Saint Osyth                    │  2019 │ version 2023               │ NA                 │ NA                 │ 13                │ NA           │ NA           │ 97          │ 1 Rural          │ European Environmental Agency                                                                                                            │ https://www.eea.europa.eu/themes/air/explore-air-pollution-data                                                                                                      │ NA         │ NA                │ 51.778      │ 1.049       │      1 │\n",
              "│ 4_Eur      │ GBR     │ United Kingdom of Great Britain and Northern Ireland │ Sandwell                       │  2010 │ version 2018               │ NA                 │ NA                 │ 31                │ NA           │ NA           │ 99          │ 1 urban          │ European Environmental Agency                                                                                                            │ https://www.eea.europa.eu/themes/air/explore-air-pollution-data                                                                                                      │ 329042     │ NA                │ 52.52062    │ -1.995556   │      1 │\n",
              "│ 4_Eur      │ GBR     │ United Kingdom of Great Britain and Northern Ireland │ Sandwell                       │  2020 │ version 2023               │ NA                 │ NA                 │ 22                │ NA           │ NA           │ 97          │ 1 Urban          │ Automatic Urban and Rural Network (AURN) - Defra, UK                                                                                     │ https://uk-air.defra.gov.uk/                                                                                                                                         │ 329042     │ NA                │ 52.5053865  │ -1.9947525  │      1 │\n",
              "│ 4_Eur      │ GBR     │ United Kingdom of Great Britain and Northern Ireland │ Scottish Borders               │  2020 │ version 2023               │ NA                 │ NA                 │ 4                 │ NA           │ NA           │ 99          │ 1 Urban          │ Automatic Urban and Rural Network (AURN) - Defra, UK                                                                                     │ https://uk-air.defra.gov.uk/                                                                                                                                         │ 115240     │ NA                │ 55.657472   │ -3.196527   │      1 │\n",
              "│ 4_Eur      │ GBR     │ United Kingdom of Great Britain and Northern Ireland │ Somerton                       │  2013 │ version 2018               │ NA                 │ NA                 │ 9                 │ NA           │ NA           │ 97          │ NA               │ European Environmental Agency                                                                                                            │ https://www.eea.europa.eu/themes/air/explore-air-pollution-data                                                                                                      │ 4565       │ NA                │ 51.05625    │ -2.68345    │      1 │\n",
              "│ 4_Eur      │ GBR     │ United Kingdom of Great Britain and Northern Ireland │ Southend - on - sea            │  2010 │ version 2018               │ NA                 │ 14                 │ NA                │ NA           │ 98           │ NA          │ 1 urban          │ European Environmental Agency                                                                                                            │ https://www.eea.europa.eu/themes/air/explore-air-pollution-data                                                                                                      │ 154730     │ NA                │ 51.544206   │ 0.678408    │      1 │\n",
              "│ 4_Eur      │ GBR     │ United Kingdom of Great Britain and Northern Ireland │ Southend-on-sea                │  2013 │ version 2018               │ NA                 │ 11                 │ 20                │ NA           │ NA           │ 95          │ NA               │ European Environmental Agency                                                                                                            │ https://www.eea.europa.eu/themes/air/explore-air-pollution-data                                                                                                      │ 304344     │ NA                │ 51.544206   │ 0.678408    │      1 │\n",
              "│ 4_Eur      │ GBR     │ United Kingdom of Great Britain and Northern Ireland │ Southend-on-Sea (greater city) │  2013 │ version 2018               │ NA                 │ 11                 │ 20                │ NA           │ 88           │ 95          │ 1 Urban          │ European Environmental Agency                                                                                                            │ https://www.eea.europa.eu/themes/air/explore-air-pollution-data                                                                                                      │ NA         │ NA                │ 51.5442     │ 0.6784      │      1 │\n",
              "│ 4_Eur      │ GBR     │ United Kingdom of Great Britain and Northern Ireland │ Southend-on-Sea (greater city) │  2014 │ version 2023               │ NA                 │ 12                 │ 19                │ NA           │ 66           │ 95          │ 1 Urban          │ European Environmental Agency                                                                                                            │ https://www.eea.europa.eu/themes/air/explore-air-pollution-data                                                                                                      │ NA         │ NA                │ 51.5442     │ 0.6784      │      1 │\n",
              "├────────────┴─────────┴──────────────────────────────────────────────────────┴────────────────────────────────┴───────┴────────────────────────────┴────────────────────┴────────────────────┴───────────────────┴──────────────┴──────────────┴─────────────┴──────────────────┴──────────────────────────────────────────────────────────────────────────────────────────────────────────────────────────────────────────┴──────────────────────────────────────────────────────────────────────────────────────────────────────────────────────────────────────────────────────────────────────┴────────────┴───────────────────┴─────────────┴─────────────┴────────┤\n",
              "│ ? rows (>9999 rows, 20 shown)                                                                                                                                                                                                                                                                                                                                                                                                                                                                                                                                                                                                                               20 columns │\n",
              "└────────────────────────────────────────────────────────────────────────────────────────────────────────────────────────────────────────────────────────────────────────────────────────────────────────────────────────────────────────────────────────────────────────────────────────────────────────────────────────────────────────────────────────────────────────────────────────────────────────────────────────────────────────────────────────────────────────────────────────────────────────────────────────────────────────────────────────────────────────────────────────────────────────────────────────────────────────────────────────────────────────┘"
            ]
          },
          "metadata": {},
          "execution_count": 14
        }
      ]
    },
    {
      "cell_type": "code",
      "source": [
        "df = table.scan(row_filter=\"city == 'Berlin'\").to_arrow()"
      ],
      "metadata": {
        "id": "OISi8GEyBSXb"
      },
      "execution_count": 15,
      "outputs": []
    },
    {
      "cell_type": "code",
      "source": [
        "table.overwrite(df)"
      ],
      "metadata": {
        "id": "9osi4d-jBeIT"
      },
      "execution_count": 16,
      "outputs": []
    },
    {
      "cell_type": "code",
      "source": [
        "con_ice = table.scan().to_duckdb(table_name = \"air\")"
      ],
      "metadata": {
        "id": "HTPNj1U0Bhlx"
      },
      "execution_count": 17,
      "outputs": []
    },
    {
      "cell_type": "code",
      "source": [
        "con_ice.sql('FROM air;')"
      ],
      "metadata": {
        "colab": {
          "base_uri": "https://localhost:8080/"
        },
        "id": "UuDkgpKdBtYZ",
        "outputId": "90f9aca8-a494-443f-d27a-9096464983b8"
      },
      "execution_count": 18,
      "outputs": [
        {
          "output_type": "execute_result",
          "data": {
            "text/plain": [
              "┌────────────┬─────────┬──────────────┬─────────┬───────┬──────────────┬────────────────────┬────────────────────┬───────────────────┬──────────────┬──────────────┬─────────────┬───────────────────────────────┬───────────────────────────────┬─────────────────────────────────────────────────────────────────┬────────────┬───────────────────┬─────────────┬─────────────┬────────┐\n",
              "│ who_region │  iso3   │ country_name │  city   │ year  │   version    │ pm10_concentration │ pm25_concentration │ no2_concentration │ pm10_tempcov │ pm25_tempcov │ no2_tempcov │       type_of_stations        │           reference           │                            web_link                             │ population │ population_source │  latitude   │  longitude  │ who_ms │\n",
              "│  varchar   │ varchar │   varchar    │ varchar │ int64 │   varchar    │      varchar       │      varchar       │      varchar      │   varchar    │   varchar    │   varchar   │            varchar            │            varchar            │                             varchar                             │  varchar   │      varchar      │   varchar   │   varchar   │ int64  │\n",
              "├────────────┼─────────┼──────────────┼─────────┼───────┼──────────────┼────────────────────┼────────────────────┼───────────────────┼──────────────┼──────────────┼─────────────┼───────────────────────────────┼───────────────────────────────┼─────────────────────────────────────────────────────────────────┼────────────┼───────────────────┼─────────────┼─────────────┼────────┤\n",
              "│ 4_Eur      │ DEU     │ Germany      │ Berlin  │  2010 │ version 2018 │ 29                 │ 21                 │ 33                │ 98           │ 98           │ 99          │ 7 rural, 2 suburban, 25 urban │ European Environmental Agency │ https://www.eea.europa.eu/themes/air/explore-air-pollution-data │ 3563194    │ NA                │ 52.49798071 │ 13.40641435 │      1 │\n",
              "│ 4_Eur      │ DEU     │ Germany      │ Berlin  │  2014 │ version 2023 │ 27                 │ 20                 │ 31                │ 99           │ 88           │ 99          │ 4 Rural, 1 Suburban, 11 Urban │ European Environmental Agency │ https://www.eea.europa.eu/themes/air/explore-air-pollution-data │ NA         │ NA                │ 52.50035    │ 13.40508125 │      1 │\n",
              "│ 4_Eur      │ DEU     │ Germany      │ Berlin  │  2013 │ version 2018 │ 24                 │ 16                 │ 31                │ 98           │ 99           │ 99          │ 4 Rural, 1 Suburban, 11 Urban │ European Environmental Agency │ https://www.eea.europa.eu/themes/air/explore-air-pollution-data │ 3563194    │ NA                │ 52.50404731 │ 13.40925135 │      1 │\n",
              "│ 4_Eur      │ DEU     │ Germany      │ Berlin  │  2018 │ version 2023 │ 24                 │ 16                 │ 39                │ 99           │ 89           │ 99          │ 4 Rural, 1 Suburban, 34 Urban │ European Environmental Agency │ https://www.eea.europa.eu/themes/air/explore-air-pollution-data │ NA         │ NA                │ 52.50347692 │ 13.3928641  │      1 │\n",
              "│ 4_Eur      │ DEU     │ Germany      │ Berlin  │  2015 │ version 2023 │ 23                 │ 16                 │ 30                │ 99           │ 89           │ 99          │ 4 Rural, 1 Suburban, 11 Urban │ European Environmental Agency │ https://www.eea.europa.eu/themes/air/explore-air-pollution-data │ NA         │ NA                │ 52.50035    │ 13.40508125 │      1 │\n",
              "│ 4_Eur      │ DEU     │ Germany      │ Berlin  │  2016 │ version 2023 │ 23                 │ 16                 │ 30                │ 99           │ 89           │ 99          │ 4 Rural, 1 Suburban, 11 Urban │ European Environmental Agency │ https://www.eea.europa.eu/themes/air/explore-air-pollution-data │ NA         │ NA                │ 52.50035    │ 13.40508125 │      1 │\n",
              "│ 4_Eur      │ DEU     │ Germany      │ Berlin  │  2017 │ version 2023 │ 22                 │ 15                 │ 29                │ 99           │ 89           │ 99          │ 4 Rural, 1 Suburban, 11 Urban │ European Environmental Agency │ https://www.eea.europa.eu/themes/air/explore-air-pollution-data │ NA         │ NA                │ 52.50035    │ 13.40508125 │      1 │\n",
              "│ 4_Eur      │ DEU     │ Germany      │ Berlin  │  2021 │ version 2023 │ 20                 │ 13                 │ 27                │ 92           │ 88           │ 98          │ 4 Rural, 1 Suburban, 53 Urban │ European Environmental Agency │ https://www.eea.europa.eu/themes/air/explore-air-pollution-data │ NA         │ NA                │ 52.50211897 │ 13.38873621 │      1 │\n",
              "│ 4_Eur      │ DEU     │ Germany      │ Berlin  │  2019 │ version 2023 │ 20                 │ 13                 │ 35                │ 100          │ 89           │ 99          │ 4 Rural, 1 Suburban, 47 Urban │ European Environmental Agency │ https://www.eea.europa.eu/themes/air/explore-air-pollution-data │ NA         │ NA                │ 52.50361538 │ 13.38988077 │      1 │\n",
              "│ 4_Eur      │ DEU     │ Germany      │ Berlin  │  2020 │ version 2023 │ 18                 │ 12                 │ 29                │ 97           │ 98           │ 98          │ 4 Rural, 1 Suburban, 54 Urban │ European Environmental Agency │ https://www.eea.europa.eu/themes/air/explore-air-pollution-data │ NA         │ NA                │ 52.50258983 │ 13.38654407 │      1 │\n",
              "├────────────┴─────────┴──────────────┴─────────┴───────┴──────────────┴────────────────────┴────────────────────┴───────────────────┴──────────────┴──────────────┴─────────────┴───────────────────────────────┴───────────────────────────────┴─────────────────────────────────────────────────────────────────┴────────────┴───────────────────┴─────────────┴─────────────┴────────┤\n",
              "│ 10 rows                                                                                                                                                                                                                                                                                                                                                                     20 columns │\n",
              "└────────────────────────────────────────────────────────────────────────────────────────────────────────────────────────────────────────────────────────────────────────────────────────────────────────────────────────────────────────────────────────────────────────────────────────────────────────────────────────────────────────────────────────────────────────────────────────┘"
            ]
          },
          "metadata": {},
          "execution_count": 18
        }
      ]
    }
  ]
}