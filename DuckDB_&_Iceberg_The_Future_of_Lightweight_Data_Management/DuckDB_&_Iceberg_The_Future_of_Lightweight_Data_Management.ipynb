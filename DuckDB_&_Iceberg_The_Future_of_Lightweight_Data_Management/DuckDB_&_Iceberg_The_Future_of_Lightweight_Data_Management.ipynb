{
  "nbformat": 4,
  "nbformat_minor": 0,
  "metadata": {
    "colab": {
      "provenance": [],
      "authorship_tag": "ABX9TyOWrHs58nyEWjAMdVwzMuay",
      "include_colab_link": true
    },
    "kernelspec": {
      "name": "python3",
      "display_name": "Python 3"
    },
    "language_info": {
      "name": "python"
    }
  },
  "cells": [
    {
      "cell_type": "markdown",
      "metadata": {
        "id": "view-in-github",
        "colab_type": "text"
      },
      "source": [
        "<a href=\"https://colab.research.google.com/github/jtuckayo/scratchpad/blob/main/DuckDB_%26_Iceberg_The_Future_of_Lightweight_Data_Management.ipynb\" target=\"_parent\"><img src=\"https://colab.research.google.com/assets/colab-badge.svg\" alt=\"Open In Colab\"/></a>"
      ]
    },
    {
      "cell_type": "markdown",
      "source": [
        "This notebook is a recreation of the notebook used during the [live discussion](https://www.youtube.com/live/rjtgxz3A0f8?si=54XYo1qT-vfkyeU7) between Brian Olsen from [Tabular](https://https://www.tabular.io/) and Mehdi Ouazza from [Mother Duck](https://https://motherduck.com/) on [Apache Iceberg](https://iceberg.apache.org/) and how to use it with [DuckDB](https://duckdb.org/).\n",
        "\n",
        "You can use it while watching the [video](https://www.youtube.com/live/rjtgxz3A0f8?si=54XYo1qT-vfkyeU7).\n",
        "\n"
      ],
      "metadata": {
        "id": "f6g-J7okwSxm"
      }
    },
    {
      "cell_type": "code",
      "execution_count": null,
      "metadata": {
        "id": "yVR678yznjzP"
      },
      "outputs": [],
      "source": [
        "# prompt: install duckdb and sqlite in this notebook\n",
        "\n",
        "!pip install duckdb\n",
        "!pip install pysqlite3\n"
      ]
    },
    {
      "cell_type": "code",
      "source": [
        "import duckdb"
      ],
      "metadata": {
        "id": "7Jy8hrWjNwPi"
      },
      "execution_count": null,
      "outputs": []
    },
    {
      "cell_type": "code",
      "source": [
        "pytable = duckdb.sql(\"SELECT * FROM 's3://us-prd-motherduck-open-datasets/who_ambient_air_quality/csv/who_ambient_air_quality_database_version_v6_april_2023.csv'\").arrow()"
      ],
      "metadata": {
        "id": "O6bRL1wln1KF"
      },
      "execution_count": null,
      "outputs": []
    },
    {
      "cell_type": "code",
      "source": [
        "pytable"
      ],
      "metadata": {
        "id": "ASro0oSzqHh_"
      },
      "execution_count": null,
      "outputs": []
    },
    {
      "cell_type": "code",
      "source": [
        "# prompt: install pyiceberg\n",
        "\n",
        "!pip install pyiceberg\n"
      ],
      "metadata": {
        "id": "K-6g9gmRqsYu"
      },
      "execution_count": null,
      "outputs": []
    },
    {
      "cell_type": "code",
      "source": [
        "!mkdir \"/content/warehouse\""
      ],
      "metadata": {
        "id": "cH99dHW8q2UD"
      },
      "execution_count": null,
      "outputs": []
    },
    {
      "cell_type": "code",
      "source": [
        "from pyiceberg.catalog.sql import SqlCatalog\n",
        "\n",
        "warehouse_path = \"/content/warehouse\"\n",
        "catalog = SqlCatalog(\n",
        "    \"default\",\n",
        "    **{\n",
        "      \"uri\":f\"sqlite:///{warehouse_path}/pyiceberg_catalog_db\",\n",
        "      \"warehouse\":f\"file://{warehouse_path}\",\n",
        "    },\n",
        ")"
      ],
      "metadata": {
        "id": "GU8N-fWnrasV"
      },
      "execution_count": null,
      "outputs": []
    },
    {
      "cell_type": "code",
      "source": [
        "catalog.create_namespace(\"default\")\n",
        "\n",
        "table = catalog.create_table(\n",
        "    \"default.air_quality\",\n",
        "    schema = pytable.schema,\n",
        ")"
      ],
      "metadata": {
        "id": "ZQY21whb_EFs"
      },
      "execution_count": null,
      "outputs": []
    },
    {
      "cell_type": "code",
      "source": [
        "table.append(pytable)\n",
        "len(table.scan().to_arrow())"
      ],
      "metadata": {
        "id": "8iB4FRxv_jNZ"
      },
      "execution_count": null,
      "outputs": []
    },
    {
      "cell_type": "code",
      "source": [
        "con_ice = table.scan().to_duckdb(table_name = \"air\")"
      ],
      "metadata": {
        "id": "ftERNYLFriwo"
      },
      "execution_count": null,
      "outputs": []
    },
    {
      "cell_type": "code",
      "source": [
        "con_ice.sql('FROM air;')"
      ],
      "metadata": {
        "id": "DS3rssnv__Pr"
      },
      "execution_count": null,
      "outputs": []
    },
    {
      "cell_type": "code",
      "source": [
        "df = table.scan(row_filter=\"city == 'Berlin'\").to_arrow()"
      ],
      "metadata": {
        "id": "OISi8GEyBSXb"
      },
      "execution_count": null,
      "outputs": []
    },
    {
      "cell_type": "code",
      "source": [
        "table.overwrite(df)"
      ],
      "metadata": {
        "id": "9osi4d-jBeIT"
      },
      "execution_count": null,
      "outputs": []
    },
    {
      "cell_type": "code",
      "source": [
        "con_ice = table.scan().to_duckdb(table_name = \"air\")"
      ],
      "metadata": {
        "id": "HTPNj1U0Bhlx"
      },
      "execution_count": null,
      "outputs": []
    },
    {
      "cell_type": "code",
      "source": [
        "con_ice.sql('FROM air;')"
      ],
      "metadata": {
        "id": "UuDkgpKdBtYZ"
      },
      "execution_count": null,
      "outputs": []
    }
  ]
}